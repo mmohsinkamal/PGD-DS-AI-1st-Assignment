{
 "cells": [
  {
   "cell_type": "markdown",
   "id": "638764a1",
   "metadata": {},
   "source": [
    "# OPERATORS IN PYTHON"
   ]
  },
  {
   "cell_type": "markdown",
   "id": "2151e03f",
   "metadata": {},
   "source": [
    "# Arithmetic Operators (+,-,*,/)"
   ]
  },
  {
   "cell_type": "code",
   "execution_count": 1,
   "id": "ec553881",
   "metadata": {},
   "outputs": [
    {
     "data": {
      "text/plain": [
       "12"
      ]
     },
     "execution_count": 1,
     "metadata": {},
     "output_type": "execute_result"
    }
   ],
   "source": [
    "5 + 7 # + operator with integer"
   ]
  },
  {
   "cell_type": "code",
   "execution_count": 2,
   "id": "9f8147b2",
   "metadata": {},
   "outputs": [
    {
     "data": {
      "text/plain": [
       "'Mohsin Kamal'"
      ]
     },
     "execution_count": 2,
     "metadata": {},
     "output_type": "execute_result"
    }
   ],
   "source": [
    "'Mohsin '+'Kamal' # + operator with string data type"
   ]
  },
  {
   "cell_type": "code",
   "execution_count": 3,
   "id": "2dad0480",
   "metadata": {},
   "outputs": [
    {
     "name": "stdout",
     "output_type": "stream",
     "text": [
      "[1, 2, 3, 4, 5, 6]\n"
     ]
    },
    {
     "data": {
      "text/plain": [
       "['a', 'b', 'c', 'd', 'e', 'f']"
      ]
     },
     "execution_count": 3,
     "metadata": {},
     "output_type": "execute_result"
    }
   ],
   "source": [
    "# + operator with list data type\n",
    "\n",
    "list1=[1,2,3]\n",
    "list2=[4,5,6]\n",
    "\n",
    "list1 + list2\n",
    "list3 = list1 + list2\n",
    "print(list3)\n",
    "\n",
    "lista = ['a','b','c']\n",
    "listb = ['d','e','f']\n",
    "\n",
    "lista + listb\n"
   ]
  },
  {
   "cell_type": "code",
   "execution_count": 4,
   "id": "33686936",
   "metadata": {},
   "outputs": [
    {
     "data": {
      "text/plain": [
       "4"
      ]
     },
     "execution_count": 4,
     "metadata": {},
     "output_type": "execute_result"
    }
   ],
   "source": [
    "# - operator with integer\n",
    "\n",
    "12 - 8"
   ]
  },
  {
   "cell_type": "code",
   "execution_count": 5,
   "id": "2b54bd56",
   "metadata": {},
   "outputs": [
    {
     "data": {
      "text/plain": [
       "144"
      ]
     },
     "execution_count": 5,
     "metadata": {},
     "output_type": "execute_result"
    }
   ],
   "source": [
    "# * operator with integer\n",
    "\n",
    "12 * 12"
   ]
  },
  {
   "cell_type": "code",
   "execution_count": 6,
   "id": "84c6ceab",
   "metadata": {},
   "outputs": [
    {
     "data": {
      "text/plain": [
       "'Mohsin Kamal Mohsin Kamal Mohsin Kamal Mohsin Kamal Mohsin Kamal '"
      ]
     },
     "execution_count": 6,
     "metadata": {},
     "output_type": "execute_result"
    }
   ],
   "source": [
    "# * operator with string\n",
    "\n",
    "\"Mohsin Kamal \" * 5"
   ]
  },
  {
   "cell_type": "code",
   "execution_count": 7,
   "id": "b44c1a1c",
   "metadata": {},
   "outputs": [
    {
     "name": "stdout",
     "output_type": "stream",
     "text": [
      "\n",
      "Mohsin Kamal\n",
      "PGD Data Science & AI\n",
      "\n",
      "Mohsin Kamal\n",
      "PGD Data Science & AI\n",
      "\n",
      "Mohsin Kamal\n",
      "PGD Data Science & AI\n",
      "\n"
     ]
    }
   ],
   "source": [
    "a= \"\"\"\n",
    "Mohsin Kamal\n",
    "PGD Data Science & AI\n",
    "\"\"\" * 3\n",
    "print(a)"
   ]
  },
  {
   "cell_type": "code",
   "execution_count": 8,
   "id": "ba58440f",
   "metadata": {},
   "outputs": [
    {
     "name": "stdout",
     "output_type": "stream",
     "text": [
      "[1, 2, 3, 1, 2, 3, 1, 2, 3]\n",
      "(1, 2, 3, 1, 2, 3, 1, 2, 3)\n"
     ]
    }
   ],
   "source": [
    "# * operator with list and tuple, * op donot work with dictionary\n",
    "\n",
    "list1 = [1,2,3] * 3\n",
    "list2 = (1,2,3) * 3\n",
    "\n",
    "print(list1)\n",
    "print(list2)"
   ]
  },
  {
   "cell_type": "code",
   "execution_count": 9,
   "id": "c06edc0f",
   "metadata": {},
   "outputs": [
    {
     "data": {
      "text/plain": [
       "2.3333333333333335"
      ]
     },
     "execution_count": 9,
     "metadata": {},
     "output_type": "execute_result"
    }
   ],
   "source": [
    "# / operator with int\n",
    "\n",
    "7 / 3  #division with decimal points"
   ]
  },
  {
   "cell_type": "code",
   "execution_count": 10,
   "id": "5fd27893",
   "metadata": {},
   "outputs": [
    {
     "data": {
      "text/plain": [
       "2"
      ]
     },
     "execution_count": 10,
     "metadata": {},
     "output_type": "execute_result"
    }
   ],
   "source": [
    "7 // 3  #division with ZERO decimal points"
   ]
  },
  {
   "cell_type": "code",
   "execution_count": 11,
   "id": "9a612dc6",
   "metadata": {},
   "outputs": [
    {
     "name": "stdout",
     "output_type": "stream",
     "text": [
      "1\n",
      "0\n",
      "2\n"
     ]
    }
   ],
   "source": [
    "# % Modulo Operator returns the \"remainder\" of the division\n",
    "\n",
    "print(5 % 2)\n",
    "print(4 % 2)\n",
    "print(5 % 3)"
   ]
  },
  {
   "cell_type": "code",
   "execution_count": 12,
   "id": "47b28425",
   "metadata": {},
   "outputs": [
    {
     "data": {
      "text/plain": [
       "8"
      ]
     },
     "execution_count": 12,
     "metadata": {},
     "output_type": "execute_result"
    }
   ],
   "source": [
    "# ** Exponentiation\n",
    "\n",
    "2 ** 3 # 2*2*2\n"
   ]
  },
  {
   "cell_type": "markdown",
   "id": "cc654f36",
   "metadata": {},
   "source": [
    "# Assignment Operators"
   ]
  },
  {
   "cell_type": "code",
   "execution_count": 13,
   "id": "c76be040",
   "metadata": {},
   "outputs": [
    {
     "name": "stdout",
     "output_type": "stream",
     "text": [
      "12\n"
     ]
    }
   ],
   "source": [
    "a = 12\n",
    "\n",
    "print(a)"
   ]
  },
  {
   "cell_type": "code",
   "execution_count": 14,
   "id": "9e01ccde",
   "metadata": {},
   "outputs": [
    {
     "name": "stdout",
     "output_type": "stream",
     "text": [
      "19\n",
      "20\n"
     ]
    }
   ],
   "source": [
    "\n",
    "a = 12\n",
    "a += 7 # a=a+7 or a=12+7. New value of a will be 19\n",
    "print(a)\n",
    "\n",
    "a += 1 # a=a+1 or a=19+1. New value of a will be 20\n",
    "print(a)"
   ]
  },
  {
   "cell_type": "code",
   "execution_count": 15,
   "id": "96fd8b40",
   "metadata": {},
   "outputs": [
    {
     "name": "stdout",
     "output_type": "stream",
     "text": [
      "-3\n"
     ]
    }
   ],
   "source": [
    "b = 5\n",
    "b -= 8 # b = b-8\n",
    "\n",
    "print(b)"
   ]
  },
  {
   "cell_type": "code",
   "execution_count": 16,
   "id": "16b39a7b",
   "metadata": {},
   "outputs": [
    {
     "name": "stdout",
     "output_type": "stream",
     "text": [
      "18\n"
     ]
    }
   ],
   "source": [
    "c = 6\n",
    "c *= 3 # c = c*3\n",
    "print(c)"
   ]
  },
  {
   "cell_type": "code",
   "execution_count": 17,
   "id": "62c25802",
   "metadata": {},
   "outputs": [
    {
     "name": "stdout",
     "output_type": "stream",
     "text": [
      "6.5\n"
     ]
    }
   ],
   "source": [
    "d = 13\n",
    "d /= 2 # d =d/2\n",
    "print(d)"
   ]
  },
  {
   "cell_type": "code",
   "execution_count": 18,
   "id": "d6d6876e",
   "metadata": {},
   "outputs": [
    {
     "name": "stdout",
     "output_type": "stream",
     "text": [
      "6\n"
     ]
    }
   ],
   "source": [
    "e = 13\n",
    "e //= 2 # e=e/2\n",
    "print(e)"
   ]
  },
  {
   "cell_type": "code",
   "execution_count": 19,
   "id": "3dda2498",
   "metadata": {},
   "outputs": [
    {
     "name": "stdout",
     "output_type": "stream",
     "text": [
      "8\n"
     ]
    }
   ],
   "source": [
    "f = 2\n",
    "f **= 3 #where f=f**3\n",
    "print(f)"
   ]
  },
  {
   "cell_type": "code",
   "execution_count": 20,
   "id": "5f8b69bd",
   "metadata": {},
   "outputs": [
    {
     "name": "stdout",
     "output_type": "stream",
     "text": [
      "1\n"
     ]
    }
   ],
   "source": [
    "g = 5\n",
    "g %= 2 #where g=g%2\n",
    "print(g)"
   ]
  },
  {
   "cell_type": "markdown",
   "id": "95dab285",
   "metadata": {},
   "source": [
    "# Comparison Operators"
   ]
  },
  {
   "cell_type": "code",
   "execution_count": 21,
   "id": "7e55d6fe",
   "metadata": {},
   "outputs": [
    {
     "data": {
      "text/plain": [
       "False"
      ]
     },
     "execution_count": 21,
     "metadata": {},
     "output_type": "execute_result"
    }
   ],
   "source": [
    "2==4 # Equal to"
   ]
  },
  {
   "cell_type": "code",
   "execution_count": 22,
   "id": "8e0ecebc",
   "metadata": {},
   "outputs": [
    {
     "data": {
      "text/plain": [
       "True"
      ]
     },
     "execution_count": 22,
     "metadata": {},
     "output_type": "execute_result"
    }
   ],
   "source": [
    "2!=4 # Not equal to"
   ]
  },
  {
   "cell_type": "code",
   "execution_count": 23,
   "id": "3900e3df",
   "metadata": {},
   "outputs": [
    {
     "data": {
      "text/plain": [
       "True"
      ]
     },
     "execution_count": 23,
     "metadata": {},
     "output_type": "execute_result"
    }
   ],
   "source": [
    "2<4 # Less than"
   ]
  },
  {
   "cell_type": "code",
   "execution_count": 24,
   "id": "0977dd70",
   "metadata": {},
   "outputs": [
    {
     "data": {
      "text/plain": [
       "False"
      ]
     },
     "execution_count": 24,
     "metadata": {},
     "output_type": "execute_result"
    }
   ],
   "source": [
    "2 >4 # greater than "
   ]
  },
  {
   "cell_type": "code",
   "execution_count": 25,
   "id": "52387c51",
   "metadata": {},
   "outputs": [
    {
     "data": {
      "text/plain": [
       "False"
      ]
     },
     "execution_count": 25,
     "metadata": {},
     "output_type": "execute_result"
    }
   ],
   "source": [
    "2 >= 4 # greater than or equal to"
   ]
  },
  {
   "cell_type": "code",
   "execution_count": 26,
   "id": "231580b2",
   "metadata": {},
   "outputs": [
    {
     "data": {
      "text/plain": [
       "True"
      ]
     },
     "execution_count": 26,
     "metadata": {},
     "output_type": "execute_result"
    }
   ],
   "source": [
    "2 <= 4 # Less than or equal to"
   ]
  },
  {
   "cell_type": "markdown",
   "id": "74a14706",
   "metadata": {},
   "source": [
    "# Logical Operators"
   ]
  },
  {
   "cell_type": "code",
   "execution_count": null,
   "id": "7f5ea49a",
   "metadata": {},
   "outputs": [],
   "source": [
    "user = input(\"User Name: \")\n",
    "pw = input(\"Password: \")\n",
    "\n",
    "user == 'Mohsin' and pw == '123' # for \"and\" both conditions must be true"
   ]
  },
  {
   "cell_type": "code",
   "execution_count": 1,
   "id": "458cf0ad",
   "metadata": {},
   "outputs": [
    {
     "name": "stdout",
     "output_type": "stream",
     "text": [
      "User Name: Mohsin\n",
      "Password: 145\n"
     ]
    },
    {
     "data": {
      "text/plain": [
       "True"
      ]
     },
     "execution_count": 1,
     "metadata": {},
     "output_type": "execute_result"
    }
   ],
   "source": [
    "user = input(\"User Name: \")\n",
    "pw = input(\"Password: \")\n",
    "\n",
    "user == 'Mohsin' or pw == '123' # for \"or\" and conditions may be true"
   ]
  },
  {
   "cell_type": "code",
   "execution_count": 3,
   "id": "a6911da4-d3de-4667-9e56-9138b99b6811",
   "metadata": {},
   "outputs": [
    {
     "data": {
      "text/plain": [
       "False"
      ]
     },
     "execution_count": 3,
     "metadata": {},
     "output_type": "execute_result"
    }
   ],
   "source": [
    "not 2 < 3 # \"not\" operator reverse the result of a condition"
   ]
  },
  {
   "cell_type": "markdown",
   "id": "3612dae6",
   "metadata": {},
   "source": [
    "# Identity Operators"
   ]
  },
  {
   "cell_type": "code",
   "execution_count": 12,
   "id": "7e0d6ab8",
   "metadata": {},
   "outputs": [
    {
     "data": {
      "text/plain": [
       "False"
      ]
     },
     "execution_count": 12,
     "metadata": {},
     "output_type": "execute_result"
    }
   ],
   "source": [
    "x = 1\n",
    "y = 20\n",
    "\n",
    "x is y"
   ]
  },
  {
   "cell_type": "code",
   "execution_count": 13,
   "id": "9446847d",
   "metadata": {},
   "outputs": [
    {
     "data": {
      "text/plain": [
       "True"
      ]
     },
     "execution_count": 13,
     "metadata": {},
     "output_type": "execute_result"
    }
   ],
   "source": [
    "x = 1\n",
    "y = 20\n",
    "\n",
    "x is not y"
   ]
  },
  {
   "cell_type": "markdown",
   "id": "70e8874f",
   "metadata": {},
   "source": [
    "# Memebership Operators"
   ]
  },
  {
   "cell_type": "code",
   "execution_count": 17,
   "id": "08612db0",
   "metadata": {},
   "outputs": [
    {
     "data": {
      "text/plain": [
       "False"
      ]
     },
     "execution_count": 17,
     "metadata": {},
     "output_type": "execute_result"
    }
   ],
   "source": [
    "names = ('ahsen','mohsin','hasan','sohaib')\n",
    "\n",
    "'humdan' in names"
   ]
  },
  {
   "cell_type": "code",
   "execution_count": 18,
   "id": "b927b8a7",
   "metadata": {},
   "outputs": [
    {
     "data": {
      "text/plain": [
       "True"
      ]
     },
     "execution_count": 18,
     "metadata": {},
     "output_type": "execute_result"
    }
   ],
   "source": [
    "names = ('ahsen','mohsin','hasan','sohaib')\n",
    "\n",
    "'humdan' not in names"
   ]
  },
  {
   "cell_type": "code",
   "execution_count": 19,
   "id": "12000afc",
   "metadata": {},
   "outputs": [
    {
     "data": {
      "text/plain": [
       "True"
      ]
     },
     "execution_count": 19,
     "metadata": {},
     "output_type": "execute_result"
    }
   ],
   "source": [
    "names = ('ahsen','mohsin','hasan','sohaib')\n",
    "\n",
    "'hasan' in names"
   ]
  },
  {
   "cell_type": "code",
   "execution_count": 20,
   "id": "ac157122",
   "metadata": {},
   "outputs": [
    {
     "name": "stdout",
     "output_type": "stream",
     "text": [
      "2.0\n"
     ]
    }
   ],
   "source": []
  }
 ],
 "metadata": {
  "kernelspec": {
   "display_name": "Python 3 (ipykernel)",
   "language": "python",
   "name": "python3"
  },
  "language_info": {
   "codemirror_mode": {
    "name": "ipython",
    "version": 3
   },
   "file_extension": ".py",
   "mimetype": "text/x-python",
   "name": "python",
   "nbconvert_exporter": "python",
   "pygments_lexer": "ipython3",
   "version": "3.9.13"
  }
 },
 "nbformat": 4,
 "nbformat_minor": 5
}
