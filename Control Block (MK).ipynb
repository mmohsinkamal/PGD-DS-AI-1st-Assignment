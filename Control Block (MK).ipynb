{
 "cells": [
  {
   "cell_type": "markdown",
   "id": "24f9e691",
   "metadata": {},
   "source": [
    "# CONTROL BLOCKS \"IF ELSE ELIF\""
   ]
  },
  {
   "cell_type": "code",
   "execution_count": 13,
   "id": "aa0d38c0",
   "metadata": {},
   "outputs": [
    {
     "name": "stdout",
     "output_type": "stream",
     "text": [
      "Enter First Number: 5\n",
      "Enter Second Number: 10\n",
      "A which is 5 is greater than B, which is 10\n"
     ]
    }
   ],
   "source": [
    "a = input(\"Enter First Number: \")\n",
    "b = input(\"Enter Second Number: \")\n",
    "\n",
    "if a > b:\n",
    "    print(f\"A which is {a} is greater than B, which is {b}\")\n",
    "else:\n",
    "    print(f\"A which is {a}, is less than or equal to B, which is {b}\")"
   ]
  },
  {
   "cell_type": "code",
   "execution_count": 63,
   "id": "3911d8a9",
   "metadata": {},
   "outputs": [
    {
     "name": "stdout",
     "output_type": "stream",
     "text": [
      "Enter employee score: 100\n",
      "Invalid Score!. Please enter any score from 0 to 5\n"
     ]
    }
   ],
   "source": [
    "score = float(input(\"Enter employee score: \"))\n",
    "\n",
    "if score >= 4.1 and score <= 5:\n",
    "    print(\"Employee Annual Rating: Outstanding\")\n",
    "    \n",
    "elif score >=3.1 and score <= 4:\n",
    "    print(\"Employee Annual Rating: Very Good\")\n",
    "    \n",
    "elif score >=2.1 and score <=3:\n",
    "    print(\"Employee Annual Rating: Good\")\n",
    "    \n",
    "elif score >=1.1 and score <=2:\n",
    "    print(\"Employee Annual Rating: Needs Improvement\")\n",
    "    \n",
    "elif score >=0 and score <=1:\n",
    "    print(\"Employee Annual Rating: Unsatisfactory\")\n",
    "    \n",
    "else:\n",
    "    print(\"Invalid Score!. Please enter any score from 0 to 5\")"
   ]
  },
  {
   "cell_type": "markdown",
   "id": "51a3a501",
   "metadata": {},
   "source": []
  }
 ],
 "metadata": {
  "kernelspec": {
   "display_name": "Python 3 (ipykernel)",
   "language": "python",
   "name": "python3"
  },
  "language_info": {
   "codemirror_mode": {
    "name": "ipython",
    "version": 3
   },
   "file_extension": ".py",
   "mimetype": "text/x-python",
   "name": "python",
   "nbconvert_exporter": "python",
   "pygments_lexer": "ipython3",
   "version": "3.9.13"
  }
 },
 "nbformat": 4,
 "nbformat_minor": 5
}
