{
 "cells": [
  {
   "cell_type": "code",
   "execution_count": 2,
   "id": "bef97222",
   "metadata": {},
   "outputs": [
    {
     "name": "stdout",
     "output_type": "stream",
     "text": [
      "['mango', 'apple', 'banana', 'orange']\n",
      "4\n"
     ]
    }
   ],
   "source": [
    "fruit_list = ['mango','apple','banana','orange']\n",
    "\n",
    "print(fruit_list)\n",
    "print(len(fruit_list))"
   ]
  },
  {
   "cell_type": "code",
   "execution_count": 3,
   "id": "ceda4b2a",
   "metadata": {},
   "outputs": [
    {
     "name": "stdout",
     "output_type": "stream",
     "text": [
      "mango\n",
      "4\n"
     ]
    }
   ],
   "source": [
    "print(fruit_list[0])"
   ]
  },
  {
   "cell_type": "code",
   "execution_count": 22,
   "id": "333d7a3c",
   "metadata": {},
   "outputs": [
    {
     "name": "stdout",
     "output_type": "stream",
     "text": [
      "orange\n"
     ]
    }
   ],
   "source": [
    "print(fruit_list[-1])"
   ]
  },
  {
   "cell_type": "code",
   "execution_count": 4,
   "id": "a3b6788d",
   "metadata": {},
   "outputs": [
    {
     "name": "stdout",
     "output_type": "stream",
     "text": [
      "4\n"
     ]
    }
   ],
   "source": [
    "print(len(fruit_list))"
   ]
  },
  {
   "cell_type": "code",
   "execution_count": 5,
   "id": "57803f5e",
   "metadata": {},
   "outputs": [
    {
     "name": "stdout",
     "output_type": "stream",
     "text": [
      "<class 'list'>\n"
     ]
    }
   ],
   "source": [
    "print(type(fruit_list))"
   ]
  },
  {
   "cell_type": "code",
   "execution_count": 16,
   "id": "0eb1bf3e",
   "metadata": {},
   "outputs": [
    {
     "name": "stdout",
     "output_type": "stream",
     "text": [
      "15\n",
      "orange\n"
     ]
    }
   ],
   "source": [
    "#indexing --->   0      1        2        3        4         5          6       7        8        9          10        11     12    13        14\n",
    "fruit_list = ['mango','apple','banana','orange','cherry','pineapple','peach','grapes','apricot','plum','strawberry','guava','fig','papya','watermelon']\n",
    "#indexing <---  -15     -14      -13      -12      -11       -10        -9      -8        -7       -6       -5         -4     -3     -2       -1       \n",
    "\n",
    "print(len(fruit_list))\n",
    "print(fruit_list[-12])"
   ]
  },
  {
   "cell_type": "markdown",
   "id": "2094f736",
   "metadata": {},
   "source": [
    "# SLICING"
   ]
  },
  {
   "cell_type": "code",
   "execution_count": null,
   "id": "bb6f6467",
   "metadata": {},
   "outputs": [],
   "source": [
    "# List[Start:End:Step]"
   ]
  },
  {
   "cell_type": "code",
   "execution_count": 32,
   "id": "735b6320",
   "metadata": {},
   "outputs": [
    {
     "name": "stdout",
     "output_type": "stream",
     "text": [
      "['banana', 'orange', 'cherry', 'pineapple', 'peach', 'grapes', 'apricot', 'plum', 'strawberry']\n",
      "['apple', 'orange', 'pineapple', 'grapes', 'plum', 'guava']\n",
      "['plum', 'apricot', 'grapes', 'peach', 'pineapple', 'cherry', 'orange', 'banana', 'apple', 'mango']\n",
      "['watermelon', 'guava', 'apricot', 'pineapple', 'banana']\n"
     ]
    }
   ],
   "source": [
    "#indexing --->   0      1        2        3        4         5          6       7        8        9          10        11     12    13        14\n",
    "fruit_list = ['mango','apple','banana','orange','cherry','pineapple','peach','grapes','apricot','plum','strawberry','guava','fig','papya','watermelon']\n",
    "#indexing <---  -15     -14      -13      -12      -11       -10        -9      -8        -7       -6       -5         -4     -3     -2       -1       \n",
    "\n",
    "# print from banana to strawberry\n",
    "print(fruit_list[2:11:1])\n",
    "\n",
    "# print from apple to guava with step 2\n",
    "print(fruit_list[1:12:2])\n",
    "\n",
    "# print from plum to mango\n",
    "print(fruit_list[-6:-16:-1])\n",
    "\n",
    "# print from watermelon to mango with step -3\n",
    "print(fruit_list[-1:-16:-3])"
   ]
  },
  {
   "cell_type": "code",
   "execution_count": 44,
   "id": "c6ee8962",
   "metadata": {},
   "outputs": [
    {
     "data": {
      "text/plain": [
       "[1, 2, 3, 4, 5, 6, 7, 8, 9, 10]"
      ]
     },
     "execution_count": 44,
     "metadata": {},
     "output_type": "execute_result"
    }
   ],
   "source": [
    "list(range(1,11))\n"
   ]
  },
  {
   "cell_type": "code",
   "execution_count": 52,
   "id": "1b0a051b",
   "metadata": {},
   "outputs": [
    {
     "name": "stdout",
     "output_type": "stream",
     "text": [
      "[['a', 'b', 'c'], ['d', 'e', 'f'], ['g', 'h', 'i'], ['j', 'k', 'l']]\n",
      "['a', 'b', 'c']\n",
      "['j', 'k', 'l']\n",
      "g\n",
      "['a', 'b', 'c']\n",
      "b\n"
     ]
    }
   ],
   "source": [
    "# Nested List\n",
    "\n",
    "List=[['a','b','c'],['d','e','f'],['g','h','i'],['j','k','l']]\n",
    "\n",
    "print(List)\n",
    "print(List[0])\n",
    "print(List[3])\n",
    "print(List[2][0])\n",
    "print(List[-4])\n",
    "print(List[-4][-2])"
   ]
  },
  {
   "cell_type": "code",
   "execution_count": 6,
   "id": "fc597000",
   "metadata": {},
   "outputs": [
    {
     "name": "stdout",
     "output_type": "stream",
     "text": [
      "['mango', 'apple', 'banana', 'orange', 'cherry', 'pineapple', 'peach', 'grapes', 'apricot', 'plum', 'strawberry', 'guava', 'fig', 'papya', 'watermelon']\n",
      "['Mohsin', 'apple', 'banana', 'orange', 'cherry', 'pineapple', 'peach', 'grapes', 'apricot', 'plum', 'strawberry', 'guava', 'fig', 'papya', 'watermelon']\n"
     ]
    }
   ],
   "source": [
    "fruit_list = ['mango','apple','banana','orange','cherry','pineapple','peach','grapes','apricot','plum','strawberry','guava','fig','papya','watermelon']\n",
    "\n",
    "print(fruit_list)\n",
    "\n",
    "fruit_list[0]='Mohsin'\n",
    "\n",
    "print(fruit_list)"
   ]
  },
  {
   "cell_type": "markdown",
   "id": "ba85032e",
   "metadata": {},
   "source": [
    "# LIST METHODS"
   ]
  },
  {
   "cell_type": "code",
   "execution_count": 14,
   "id": "70b4c78e",
   "metadata": {},
   "outputs": [
    {
     "name": "stdout",
     "output_type": "stream",
     "text": [
      "['Mohsin']\n",
      "['Mohsin', 'Ahsen']\n",
      "['Mohsin', 'Ahsen', 'Hasan']\n"
     ]
    }
   ],
   "source": [
    "# append\n",
    "names = []\n",
    "names.append('Mohsin'); print(names)\n",
    "names.append('Ahsen'); print(names)\n",
    "names.append('Hasan'); print(names)"
   ]
  },
  {
   "cell_type": "code",
   "execution_count": 17,
   "id": "e6cda286",
   "metadata": {},
   "outputs": [
    {
     "name": "stdout",
     "output_type": "stream",
     "text": [
      "[]\n"
     ]
    }
   ],
   "source": [
    "#clear\n",
    "names.clear()\n",
    "print(names)"
   ]
  },
  {
   "cell_type": "code",
   "execution_count": 18,
   "id": "5620640f",
   "metadata": {},
   "outputs": [
    {
     "name": "stdout",
     "output_type": "stream",
     "text": [
      "[1, 2, 3] 1953967787264\n",
      "[1, 2, 3] 1953967787264\n"
     ]
    }
   ],
   "source": [
    "# Copy (Shallow & Deep)\n",
    "\n",
    "#Shallow Copy\n",
    "\n",
    "a=[1,2,3]\n",
    "b=a\n",
    "print(a, id(a))\n",
    "print(b, id(b))"
   ]
  },
  {
   "cell_type": "code",
   "execution_count": 19,
   "id": "fa3551e9",
   "metadata": {},
   "outputs": [
    {
     "name": "stdout",
     "output_type": "stream",
     "text": [
      "[1, 2, 3] 1953968201216\n",
      "[1, 2, 3] 1953967841472\n"
     ]
    }
   ],
   "source": [
    "#Deep copy\n",
    "\n",
    "a=[1,2,3]\n",
    "b=a.copy()\n",
    "\n",
    "print(a, id(a))\n",
    "print(b, id(b))"
   ]
  },
  {
   "cell_type": "code",
   "execution_count": 23,
   "id": "92e0a03f",
   "metadata": {},
   "outputs": [
    {
     "name": "stdout",
     "output_type": "stream",
     "text": [
      "14\n",
      "2\n"
     ]
    }
   ],
   "source": [
    "#count \n",
    "\n",
    "a=[1,2,3,4,5,6,7,8,4,6,5,2,9,1]\n",
    "\n",
    "print(len(a))\n",
    "print(a.count(4))"
   ]
  },
  {
   "cell_type": "code",
   "execution_count": 28,
   "id": "d964cb56",
   "metadata": {},
   "outputs": [
    {
     "name": "stdout",
     "output_type": "stream",
     "text": [
      "[1, 2, 3, 4, 5, 'a', 'b', 'c', 'd', 'e']\n",
      "[1, 2, 3, 4, 5]\n",
      "[1, 2, 3, 4, 5, 'a', 'b', 'c', 'd', 'e']\n",
      "['a', 'b', 'c', 'd', 'e', 1, 2, 3, 4, 5, 'a', 'b', 'c', 'd', 'e']\n"
     ]
    }
   ],
   "source": [
    "# extend\n",
    "a = [1,2,3,4,5]\n",
    "b = ['a','b','c','d','e']\n",
    "\n",
    "print(a+b) #temporary extension\n",
    "print(a)\n",
    "\n",
    "a.extend(b) #permanent extension\n",
    "print(a)\n",
    "\n",
    "b.extend(a) #permanent extension\n",
    "print(b)"
   ]
  },
  {
   "cell_type": "code",
   "execution_count": 29,
   "id": "e49a9b59",
   "metadata": {},
   "outputs": [
    {
     "name": "stdout",
     "output_type": "stream",
     "text": [
      "[1, 2, 3, 4, 5, 'a', 'b', 'c', 'd', 'e']\n",
      "['a', 'b', 'c', 'd', 'e', 1, 2, 3, 4, 5, 'a', 'b', 'c', 'd', 'e']\n"
     ]
    }
   ],
   "source": [
    "print(a)\n",
    "print(b)"
   ]
  },
  {
   "cell_type": "code",
   "execution_count": 39,
   "id": "efea1873",
   "metadata": {},
   "outputs": [
    {
     "name": "stdout",
     "output_type": "stream",
     "text": [
      "2\n",
      "5\n"
     ]
    }
   ],
   "source": [
    "#index\n",
    " #  0   1   2   3   4   5\n",
    "a=['a','b','c','d','e','f']\n",
    "\n",
    "print(a.index('c'))\n",
    "print(a.index('f'))"
   ]
  },
  {
   "cell_type": "code",
   "execution_count": 38,
   "id": "6958358f",
   "metadata": {},
   "outputs": [
    {
     "name": "stdout",
     "output_type": "stream",
     "text": [
      "['a', 'b', 'mohsin', 'c', 'd', 'e', 'f']\n"
     ]
    }
   ],
   "source": [
    "#insert\n",
    "#  0   1   2   3   4   5\n",
    "a=['a','b','c','d','e','f']\n",
    "\n",
    "a.insert(2,'mohsin')\n",
    "print(a)"
   ]
  },
  {
   "cell_type": "markdown",
   "id": "c098e251",
   "metadata": {},
   "source": [
    "# APPEND VS EXTEND"
   ]
  },
  {
   "cell_type": "code",
   "execution_count": 40,
   "id": "dd9caf37",
   "metadata": {},
   "outputs": [
    {
     "name": "stdout",
     "output_type": "stream",
     "text": [
      "[1, 2, 3, 4, 5, ['a', 'b', 'c', 'd']]\n"
     ]
    }
   ],
   "source": [
    "a=[1,2,3,4,5]\n",
    "b=['a','b','c','d']\n",
    "\n",
    "a.append(b) # Append adds new list in existing list as an object\n",
    "print(a)"
   ]
  },
  {
   "cell_type": "code",
   "execution_count": 41,
   "id": "31b9fda0",
   "metadata": {},
   "outputs": [
    {
     "name": "stdout",
     "output_type": "stream",
     "text": [
      "[1, 2, 3, 4, 5, 'a', 'b', 'c', 'd']\n"
     ]
    }
   ],
   "source": [
    "a=[1,2,3,4,5]\n",
    "b=['a','b','c','d']\n",
    "\n",
    "a.extend(b) # extend just extends the existing list with new objects\n",
    "print(a)"
   ]
  },
  {
   "cell_type": "code",
   "execution_count": 31,
   "id": "fd8e422f",
   "metadata": {},
   "outputs": [
    {
     "name": "stdout",
     "output_type": "stream",
     "text": [
      "['mango', 'apple', 'banana', 'orange', 'cherry', 'pineapple', 'peach', 'grapes', 'apricot', 'plum', 'strawberry', 'guava', 'fig', 'papya']\n",
      "['mango', 'apple', 'banana', 'orange', 'cherry', 'pineapple', 'peach', 'grapes', 'apricot', 'plum', 'strawberry', 'guava', 'fig']\n",
      "['apple', 'banana', 'orange', 'cherry', 'pineapple', 'peach', 'grapes', 'apricot', 'plum', 'strawberry', 'guava', 'fig']\n",
      "\n",
      "['apple', 'banana', 'orange', 'cherry', 'pineapple', 'peach', 'grapes', 'apricot', 'plum', 'strawberry', 'guava']\n",
      "\n"
     ]
    }
   ],
   "source": [
    "# Pop\n",
    "#\"Pop\" by default removes the last element from the list if no index value is given. and returns specific value \n",
    "#if specific index is given\n",
    "\n",
    "fruit_list = ['mango','apple','banana','orange','cherry','pineapple','peach','grapes','apricot','plum','strawberry','guava','fig','papya','watermelon']\n",
    "\n",
    "fruit_list.pop()\n",
    "print(fruit_list, end='\\n')\n",
    "fruit_list.pop()\n",
    "print(fruit_list, end='\\n')\n",
    "fruit_list.pop(0)\n",
    "print(fruit_list, end='\\n\\n')\n",
    "fruit_list.pop(-1)\n",
    "print(fruit_list, end='\\n\\n')"
   ]
  },
  {
   "cell_type": "code",
   "execution_count": 35,
   "id": "787e858e",
   "metadata": {},
   "outputs": [
    {
     "name": "stdout",
     "output_type": "stream",
     "text": [
      "[1, 2, 3, 'a', 'b', 'c']\n"
     ]
    }
   ],
   "source": [
    "#remove\n",
    "\n",
    "a=[1,2,3,4,'a','b','c']\n",
    "\n",
    "a.remove(4)\n",
    "print(a)"
   ]
  },
  {
   "cell_type": "code",
   "execution_count": 44,
   "id": "89e1e891",
   "metadata": {},
   "outputs": [
    {
     "data": {
      "text/plain": [
       "[0, 1, 2, 3, 5, 6, 10, 14, 21, 22, 23, 55, 74, 88, 99, 100]"
      ]
     },
     "execution_count": 44,
     "metadata": {},
     "output_type": "execute_result"
    }
   ],
   "source": [
    "#Sort\n",
    "\n",
    "a=[55,23,14,10,5,6,99,100,88,74,21,22,1,0,3,2]\n",
    "\n",
    "a.sort()\n",
    "a"
   ]
  },
  {
   "cell_type": "code",
   "execution_count": null,
   "id": "eb652284",
   "metadata": {},
   "outputs": [],
   "source": []
  }
 ],
 "metadata": {
  "kernelspec": {
   "display_name": "Python 3 (ipykernel)",
   "language": "python",
   "name": "python3"
  },
  "language_info": {
   "codemirror_mode": {
    "name": "ipython",
    "version": 3
   },
   "file_extension": ".py",
   "mimetype": "text/x-python",
   "name": "python",
   "nbconvert_exporter": "python",
   "pygments_lexer": "ipython3",
   "version": "3.9.13"
  }
 },
 "nbformat": 4,
 "nbformat_minor": 5
}
