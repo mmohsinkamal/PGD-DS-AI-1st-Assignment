{
 "cells": [
  {
   "cell_type": "code",
   "execution_count": 78,
   "id": "65cf519d",
   "metadata": {},
   "outputs": [
    {
     "name": "stdout",
     "output_type": "stream",
     "text": [
      "Current date and time : \n",
      "2023-February-22-Wed-Wednesday-3-08 15:06:08:PM\n"
     ]
    }
   ],
   "source": [
    "import datetime\n",
    "curr_date_time = datetime.datetime.now()\n",
    "print (\"Current date and time : \")\n",
    "\n",
    "#print (now.strftime(\"%y-%m-%d %H:%M:%S\")) #strftime() is used to format date and time\n",
    "\n",
    "print(curr_date_time.strftime(\"%Y-%B-%d-%a-%A-%w-%W %H:%M:%S:%p\"))\n",
    "\n",
    "#date = datetime.datetime(2023,2,23,1,25,45,123) #creating date and time\n",
    "#print(date)"
   ]
  },
  {
   "cell_type": "code",
   "execution_count": 16,
   "id": "ecfd1df6",
   "metadata": {},
   "outputs": [
    {
     "name": "stdout",
     "output_type": "stream",
     "text": [
      "3.9.13\n"
     ]
    }
   ],
   "source": [
    "import platform\n",
    "print(platform.python_version())"
   ]
  },
  {
   "cell_type": "code",
   "execution_count": 4,
   "id": "49b63372",
   "metadata": {},
   "outputs": [
    {
     "name": "stdout",
     "output_type": "stream",
     "text": [
      "Input the radius of the circle : 5.48\n",
      "The area of the circle with radius 5.48 is: 94.34328402436293\n"
     ]
    }
   ],
   "source": [
    "from math import pi\n",
    "r = float(input (\"Input the radius of the circle : \"))\n",
    "print (\"The area of the circle with radius \" + str(r) + \" is: \" + str(pi * r**2))\n"
   ]
  },
  {
   "cell_type": "code",
   "execution_count": 79,
   "id": "af838476",
   "metadata": {},
   "outputs": [
    {
     "name": "stdout",
     "output_type": "stream",
     "text": [
      "Input your First Name : mohsin\n",
      "Input your Last Name : kamal\n",
      "Hello  kamal mohsin\n"
     ]
    }
   ],
   "source": [
    "fname = input(\"Input your First Name : \")\n",
    "lname = input(\"Input your Last Name : \")\n",
    "print (\"Hello  \" + lname + \" \" + fname)\n"
   ]
  },
  {
   "cell_type": "markdown",
   "id": "7acd10c2",
   "metadata": {},
   "source": [
    "## Write a Python program that accepts a sequence of comma-separated numbers from the user and generates a list and a tuple of those numbers"
   ]
  },
  {
   "cell_type": "code",
   "execution_count": 103,
   "id": "ef125f22",
   "metadata": {},
   "outputs": [
    {
     "name": "stdout",
     "output_type": "stream",
     "text": [
      "Enter numbers separated by ',' 1,2,3,4,5,6\n",
      "['1', '2', '3', '4', '5', '6']\n",
      "('1', '2', '3', '4', '5', '6')\n"
     ]
    }
   ],
   "source": [
    "numbers = input(\"Enter numbers separated by ',' \")\n",
    "a = numbers.split(',')\n",
    "b = tuple (a) \n",
    "\n",
    "print(a)\n",
    "print(b)"
   ]
  },
  {
   "cell_type": "code",
   "execution_count": 3,
   "id": "23fa9af1",
   "metadata": {},
   "outputs": [
    {
     "name": "stdout",
     "output_type": "stream",
     "text": [
      "Enter a sequence of numbers separated by spaces: 1,2,3,4,5\n",
      "The numbers you entered are: [1, 2, 3, 4, 5]\n"
     ]
    }
   ],
   "source": [
    "numbers_str = input(\"Enter a sequence of numbers separated by spaces: \")\n",
    "numbers_list = numbers_str.split(',')  # Split the string into a list of substrings\n",
    "numbers = [int(n) for n in numbers_list]  # Convert each substring to an integer\n",
    "\n",
    "print(\"The numbers you entered are:\", numbers)"
   ]
  },
  {
   "cell_type": "markdown",
   "id": "2d983484",
   "metadata": {},
   "source": [
    "## Create a list of squares of even numbers from 0 to 10"
   ]
  },
  {
   "cell_type": "code",
   "execution_count": 17,
   "id": "b46fc7c0",
   "metadata": {},
   "outputs": [
    {
     "name": "stdout",
     "output_type": "stream",
     "text": [
      "[1, 9, 25, 49, 81, 121, 169, 225, 289, 361]\n"
     ]
    }
   ],
   "source": [
    "squares = [x**2 for x in range(0,20) if x%2==0] #here list comprehension is used to create a list\n",
    "\n",
    "print(squares)"
   ]
  },
  {
   "cell_type": "markdown",
   "id": "aa54478b",
   "metadata": {},
   "source": [
    " ## Create a list of pairs (i, j) where i is a multiple of 2 and j is a multiple of 3"
   ]
  },
  {
   "cell_type": "code",
   "execution_count": 23,
   "id": "64deacd4",
   "metadata": {},
   "outputs": [
    {
     "name": "stdout",
     "output_type": "stream",
     "text": [
      "[(0, 0), (0, 3), (2, 0), (2, 3), (4, 0), (4, 3)]\n"
     ]
    }
   ],
   "source": [
    "pair = [(i,j) for i in range(0,6) if i%2==0 for j in range(0,6) if j%3==0]\n",
    "print(pair)"
   ]
  },
  {
   "cell_type": "markdown",
   "id": "6e00c871",
   "metadata": {},
   "source": [
    "## Write a Python program that accepts a filename from the user and prints the extension of the file. "
   ]
  },
  {
   "cell_type": "code",
   "execution_count": 26,
   "id": "756b6757",
   "metadata": {},
   "outputs": [
    {
     "name": "stdout",
     "output_type": "stream",
     "text": [
      "Enter the file name with extension followed by the dot python.py\n",
      "File Ext is:  py\n"
     ]
    }
   ],
   "source": [
    "filename = input(\"Enter the file name with extension followed by the dot \")\n",
    "file_ext = filename.split('.')\n",
    "print(\"File Ext is: \", file_ext[-1])"
   ]
  },
  {
   "cell_type": "markdown",
   "id": "f706fbef",
   "metadata": {},
   "source": [
    "## Write a Python program to display the first and last colors from the following list.\n",
    "color_list = [\"Red\",\"Green\",\"White\" ,\"Black\"]"
   ]
  },
  {
   "cell_type": "code",
   "execution_count": 35,
   "id": "baf73df8",
   "metadata": {},
   "outputs": [
    {
     "name": "stdout",
     "output_type": "stream",
     "text": [
      "Red Black\n"
     ]
    }
   ],
   "source": [
    "color_list = [\"Red\",\"Green\",\"White\" ,\"Black\"]\n",
    "print(color_list[0],color_list[-1])"
   ]
  },
  {
   "cell_type": "markdown",
   "id": "db9e647a",
   "metadata": {},
   "source": [
    "## Write a Python program to display the examination schedule. (extract the date from exam_st_date).\n",
    "exam_st_date = (11, 12, 2014)\n",
    "Sample Output: The examination will start from : 11 / 12 / 2014"
   ]
  },
  {
   "cell_type": "code",
   "execution_count": 37,
   "id": "0873c7de",
   "metadata": {},
   "outputs": [
    {
     "name": "stdout",
     "output_type": "stream",
     "text": [
      "The exam will start from: 11/12/2014 \n"
     ]
    }
   ],
   "source": [
    "exam_date = (11,12,2014)\n",
    "print(\"The exam will start from: %d/%d/%d \"%exam_date) # by using the % operator"
   ]
  },
  {
   "cell_type": "code",
   "execution_count": 39,
   "id": "676e7126",
   "metadata": {},
   "outputs": [
    {
     "name": "stdout",
     "output_type": "stream",
     "text": [
      "The exam will start from: 11/12/2014\n"
     ]
    }
   ],
   "source": [
    "exam_date = (11,12,2014)\n",
    "print(\"The exam will start from: {}/{}/{}\".format(*exam_date)) # same task is done using the format() method."
   ]
  },
  {
   "cell_type": "markdown",
   "id": "1c67439d",
   "metadata": {},
   "source": [
    " ## Write a Python program that accepts an integer (n) and computes the value of n+nn+nnn."
   ]
  },
  {
   "cell_type": "code",
   "execution_count": 44,
   "id": "a6eabc6e",
   "metadata": {},
   "outputs": [
    {
     "ename": "NameError",
     "evalue": "name 'nn' is not defined",
     "output_type": "error",
     "traceback": [
      "\u001b[1;31m---------------------------------------------------------------------------\u001b[0m",
      "\u001b[1;31mNameError\u001b[0m                                 Traceback (most recent call last)",
      "\u001b[1;32m~\\AppData\\Local\\Temp\\ipykernel_1568\\21936197.py\u001b[0m in \u001b[0;36m<module>\u001b[1;34m\u001b[0m\n\u001b[0;32m      1\u001b[0m \u001b[0mn\u001b[0m \u001b[1;33m=\u001b[0m \u001b[1;36m5\u001b[0m\u001b[1;33m\u001b[0m\u001b[1;33m\u001b[0m\u001b[0m\n\u001b[1;32m----> 2\u001b[1;33m \u001b[0mvalue\u001b[0m \u001b[1;33m=\u001b[0m \u001b[0mn\u001b[0m\u001b[1;33m+\u001b[0m\u001b[0mnn\u001b[0m\u001b[1;33m+\u001b[0m\u001b[0mnnn\u001b[0m\u001b[1;33m\u001b[0m\u001b[1;33m\u001b[0m\u001b[0m\n\u001b[0m\u001b[0;32m      3\u001b[0m \u001b[0mvalue\u001b[0m\u001b[1;33m\u001b[0m\u001b[1;33m\u001b[0m\u001b[0m\n",
      "\u001b[1;31mNameError\u001b[0m: name 'nn' is not defined"
     ]
    }
   ],
   "source": [
    "n = 5\n",
    "value = n+nn+nnn\n",
    "value"
   ]
  },
  {
   "cell_type": "markdown",
   "id": "1a5cfc4e",
   "metadata": {},
   "source": [
    "# W3 resources List Exercises"
   ]
  },
  {
   "cell_type": "code",
   "execution_count": 2,
   "id": "5df0b7fc",
   "metadata": {},
   "outputs": [
    {
     "name": "stdout",
     "output_type": "stream",
     "text": [
      "21\n"
     ]
    }
   ],
   "source": [
    "# Write a Python program to sum all the items in a list\n",
    "\n",
    "list1=[1,2,3,4,5,6]\n",
    "\n",
    "print(sum(list1))"
   ]
  },
  {
   "cell_type": "code",
   "execution_count": 3,
   "id": "52551ad6",
   "metadata": {},
   "outputs": [
    {
     "name": "stdout",
     "output_type": "stream",
     "text": [
      "720\n"
     ]
    }
   ],
   "source": [
    "# Write a Python program to multiply all the items in a list.\n",
    "\n",
    "list1=[1,2,3,4,5,6]\n",
    "prod = 1\n",
    "for i in list1:\n",
    "    prod *= i\n",
    "\n",
    "print(prod)\n"
   ]
  },
  {
   "cell_type": "code",
   "execution_count": 5,
   "id": "e581f580",
   "metadata": {},
   "outputs": [
    {
     "name": "stdout",
     "output_type": "stream",
     "text": [
      "84\n"
     ]
    }
   ],
   "source": [
    "# Write a Python program to get the largest number from a list\n",
    "# Method 1\n",
    "list1=[1,2,3,84,5,6]\n",
    "\n",
    "print(max(list1))"
   ]
  },
  {
   "cell_type": "code",
   "execution_count": 2,
   "id": "1120261b",
   "metadata": {},
   "outputs": [
    {
     "name": "stdout",
     "output_type": "stream",
     "text": [
      "600\n"
     ]
    }
   ],
   "source": [
    "# Write a Python program to get the largest number from a list\n",
    "# Method 2\n",
    "\n",
    "list1=[100,-2,-100,-44,-5,600]\n",
    "\n",
    "max_num = list1[0]\n",
    "for num in list1:\n",
    "    if num > max_num:\n",
    "        max_num = num\n",
    "print(max_num)"
   ]
  },
  {
   "cell_type": "code",
   "execution_count": 7,
   "id": "be6f9181",
   "metadata": {},
   "outputs": [
    {
     "name": "stdout",
     "output_type": "stream",
     "text": [
      "-100\n"
     ]
    }
   ],
   "source": [
    "# Write a Python program to get the smallest number from a list\n",
    "\n",
    "list2 = [100,-2,-100,-44,-5,600]\n",
    "\n",
    "small_num = list2[0]\n",
    "\n",
    "for num in list2:\n",
    "    if num < small_num:\n",
    "        small_num = num\n",
    "print(small_num)"
   ]
  },
  {
   "cell_type": "code",
   "execution_count": 28,
   "id": "2341e49a",
   "metadata": {},
   "outputs": [
    {
     "name": "stdout",
     "output_type": "stream",
     "text": [
      "4\n"
     ]
    }
   ],
   "source": [
    "# Write a Python program to count the number of strings from a given list of strings. The string length is 2 or more \n",
    "# and the first and last characters are the same.\n",
    "\n",
    "list1 = ['abc', 'xyz', 'aba', '1221', 'abcda','1231']\n",
    "# Expected Result : 2\n",
    "\n",
    "list2 = []\n",
    "for a in list1:\n",
    "    if len(a) >= 2 and a[0] == a[-1]:\n",
    "        list2.append(a)\n",
    "\n",
    "print(len(list2))"
   ]
  },
  {
   "cell_type": "code",
   "execution_count": 49,
   "id": "10f96707",
   "metadata": {},
   "outputs": [
    {
     "name": "stdout",
     "output_type": "stream",
     "text": [
      "[(1, 2), (2, 5), (2, 3), (2, 1), (4, 4)]\n"
     ]
    }
   ],
   "source": [
    "# Write a Python program to get a list, sorted in increasing order by the last element in each tuple from a given list \n",
    "# of non-empty tuples.\n",
    "list1 = [(2, 5), (1, 2), (4, 4), (2, 3), (2, 1)]\n",
    "# Expected Result : [(2, 1), (1, 2), (2, 3), (4, 4), (2, 5)]\n",
    "\n",
    "print(sorted(list1, key = lambda x : x[0]))\n",
    "\n"
   ]
  },
  {
   "cell_type": "code",
   "execution_count": 16,
   "id": "d32d6980",
   "metadata": {},
   "outputs": [
    {
     "name": "stdout",
     "output_type": "stream",
     "text": [
      "[40, 10, 80, 50, 20, 60, 30]\n"
     ]
    }
   ],
   "source": [
    "# Write a Python program to remove duplicates from a list.\n",
    "list1 = [10,20,30,20,10,50,60,40,80,50,40]\n",
    "\n",
    "result = (list(set(list1)))\n",
    "print(result)"
   ]
  },
  {
   "cell_type": "code",
   "execution_count": 21,
   "id": "e06b7157",
   "metadata": {},
   "outputs": [
    {
     "data": {
      "text/plain": [
       "True"
      ]
     },
     "execution_count": 21,
     "metadata": {},
     "output_type": "execute_result"
    }
   ],
   "source": [
    "# Write a Python program to check if a list is empty or not.\n",
    "\n",
    "l = []\n",
    "\n",
    "not l"
   ]
  },
  {
   "cell_type": "code",
   "execution_count": 1,
   "id": "016c0fef",
   "metadata": {},
   "outputs": [
    {
     "name": "stdout",
     "output_type": "stream",
     "text": [
      "[10, 22, 44, 23, 4]\n"
     ]
    }
   ],
   "source": [
    "# Write a Python program to clone or copy a list.\n",
    "\n",
    "list1 = [10, 22, 44, 23, 4]\n",
    "\n",
    "list_copy = list1.copy()\n",
    "\n",
    "print(list_copy)"
   ]
  },
  {
   "cell_type": "code",
   "execution_count": 6,
   "id": "f2a8291f",
   "metadata": {},
   "outputs": [
    {
     "name": "stdout",
     "output_type": "stream",
     "text": [
      "['quick', 'brown', 'jumps', 'over', 'lazy']\n"
     ]
    }
   ],
   "source": [
    "# Write a Python program to find the list of words that are longer than 3 from a given list of words\n",
    "\n",
    "text = \"A quick brown fox jumps over the lazy dog\"\n",
    "\n",
    "list1 = text.split(\" \")\n",
    "list2 = []\n",
    "for i in list1:\n",
    "    if len(i) > 3:\n",
    "        list2.append(i)\n",
    "print(list2)"
   ]
  },
  {
   "cell_type": "code",
   "execution_count": 40,
   "id": "7cda682e",
   "metadata": {},
   "outputs": [
    {
     "data": {
      "text/plain": [
       "False"
      ]
     },
     "execution_count": 40,
     "metadata": {},
     "output_type": "execute_result"
    }
   ],
   "source": [
    "# Write a Python function that takes two lists and returns True if they have at least one common member.\n",
    "\n",
    "def abc (list1,list2):\n",
    "    for i in list1:\n",
    "        if i in list2:\n",
    "            return True\n",
    "        return False\n",
    "\n",
    "abc ([10,20,30,40,50],[60,70,80,90,100])\n",
    "    "
   ]
  },
  {
   "cell_type": "code",
   "execution_count": 35,
   "id": "15cb29a0",
   "metadata": {},
   "outputs": [
    {
     "name": "stdout",
     "output_type": "stream",
     "text": [
      "True\n",
      "false\n",
      "false\n",
      "false\n",
      "false\n",
      "false\n"
     ]
    }
   ],
   "source": [
    "list1 = [10,20,30,40,50]\n",
    "list2 = [60,70,80,90,10]\n",
    "\n",
    "for i in list1:\n",
    "    if i in list2:\n",
    "        print(\"True\")\n",
    "    print(\"false\")\n",
    "    \n",
    "\n",
    "\n",
    "        \n",
    "    \n",
    "    "
   ]
  },
  {
   "cell_type": "code",
   "execution_count": 29,
   "id": "97304b23",
   "metadata": {},
   "outputs": [
    {
     "name": "stdout",
     "output_type": "stream",
     "text": [
      "True\n"
     ]
    }
   ],
   "source": [
    "def test_includes_any(nums, lsts):\n",
    "    for x in lsts:\n",
    "        if x in nums:\n",
    "            return True\n",
    "    return False    \n",
    "print(test_includes_any([10, 20, 30, 40, 50, 60], [22, 42]))\n",
    "print(test_includes_any([10, 20, 30, 40, 50, 60], [20, 80]))\n"
   ]
  },
  {
   "cell_type": "code",
   "execution_count": null,
   "id": "4b570e94",
   "metadata": {},
   "outputs": [],
   "source": []
  },
  {
   "cell_type": "code",
   "execution_count": null,
   "id": "baa34441",
   "metadata": {},
   "outputs": [],
   "source": []
  },
  {
   "cell_type": "code",
   "execution_count": null,
   "id": "841b772e",
   "metadata": {},
   "outputs": [],
   "source": []
  }
 ],
 "metadata": {
  "kernelspec": {
   "display_name": "Python 3 (ipykernel)",
   "language": "python",
   "name": "python3"
  },
  "language_info": {
   "codemirror_mode": {
    "name": "ipython",
    "version": 3
   },
   "file_extension": ".py",
   "mimetype": "text/x-python",
   "name": "python",
   "nbconvert_exporter": "python",
   "pygments_lexer": "ipython3",
   "version": "3.9.13"
  }
 },
 "nbformat": 4,
 "nbformat_minor": 5
}
