{
 "cells": [
  {
   "cell_type": "code",
   "execution_count": 9,
   "id": "f74bd077",
   "metadata": {},
   "outputs": [
    {
     "data": {
      "text/plain": [
       "'51'"
      ]
     },
     "execution_count": 9,
     "metadata": {},
     "output_type": "execute_result"
    }
   ],
   "source": [
    "('5'+'2')"
   ]
  },
  {
   "cell_type": "code",
   "execution_count": 22,
   "id": "baa3afca",
   "metadata": {},
   "outputs": [
    {
     "name": "stdout",
     "output_type": "stream",
     "text": [
      "pakistan 20 3 China 27 Russia iran 12\n"
     ]
    }
   ],
   "source": [
    "print(\"pakistan\", 20, 2 + 1, \"China\", 3 * 9, \"\"\"Russia iran\"\"\",12)"
   ]
  },
  {
   "cell_type": "code",
   "execution_count": 13,
   "id": "e236cf64",
   "metadata": {},
   "outputs": [
    {
     "name": "stdout",
     "output_type": "stream",
     "text": [
      "pakistan has 4 provinces\n"
     ]
    }
   ],
   "source": [
    "country = \"pakistan\"\n",
    "a = 4\n",
    "b = \"provinces\"\n",
    "print(country,\"has\",a,b)"
   ]
  },
  {
   "cell_type": "code",
   "execution_count": 37,
   "id": "c15770f7",
   "metadata": {},
   "outputs": [
    {
     "name": "stdout",
     "output_type": "stream",
     "text": [
      "i live in\n",
      "Pakistan.\n",
      "It has\n",
      "4\n",
      "provinces.\n"
     ]
    }
   ],
   "source": [
    "country = \"Pakistan.\"\n",
    "No_of_province = 4\n",
    "print(\"i live in\",country,\"It has\",No_of_province,\"provinces.\",sep='\\n')"
   ]
  },
  {
   "cell_type": "markdown",
   "id": "7efabf2f",
   "metadata": {},
   "source": [
    "NED STUDENT ID CARD"
   ]
  },
  {
   "cell_type": "code",
   "execution_count": 60,
   "id": "1dec60f5",
   "metadata": {},
   "outputs": [
    {
     "name": "stdout",
     "output_type": "stream",
     "text": [
      "NED STUDENT ID CARD\n",
      "Student Name: Mohsin Kamal\n",
      "Father's Name: Mahmood Kamal\n",
      "Class Name: DS & AI\n",
      "Age: 39.5\n"
     ]
    }
   ],
   "source": [
    "name = \"Mohsin Kamal\"\n",
    "f_name = \"Mahmood Kamal\"\n",
    "Batch = 4\n",
    "cl = \"DS & AI\"\n",
    "Age = 39.5\n",
    "\n",
    "print(\"NED STUDENT ID CARD\")\n",
    "print(\"Student Name:\",name)\n",
    "print(\"Father's Name:\",f_name)\n",
    "print(\"Class Name:\",cl)\n",
    "print(\"Age:\",Age)"
   ]
  },
  {
   "cell_type": "code",
   "execution_count": 65,
   "id": "8e1b6a1b",
   "metadata": {},
   "outputs": [
    {
     "name": "stdout",
     "output_type": "stream",
     "text": [
      "Mohsin Kamal\n",
      "<class 'str'>\n",
      "2538955880688\n"
     ]
    }
   ],
   "source": [
    "print(name)\n",
    "print(type(name))\n",
    "print(id(name))"
   ]
  },
  {
   "cell_type": "code",
   "execution_count": 67,
   "id": "b9dac0c6",
   "metadata": {},
   "outputs": [
    {
     "name": "stdout",
     "output_type": "stream",
     "text": [
      "4\n",
      "<class 'int'>\n",
      "2538827508112\n"
     ]
    }
   ],
   "source": [
    "print(Batch)\n",
    "print(type(Batch))\n",
    "print(id(Batch))"
   ]
  },
  {
   "cell_type": "code",
   "execution_count": 68,
   "id": "0cfb39d3",
   "metadata": {},
   "outputs": [
    {
     "name": "stdout",
     "output_type": "stream",
     "text": [
      "39.5\n",
      "<class 'float'>\n",
      "2538955902672\n"
     ]
    }
   ],
   "source": [
    "print(Age)\n",
    "print(type(Age))\n",
    "print(id(Age))"
   ]
  },
  {
   "cell_type": "code",
   "execution_count": 71,
   "id": "e81f2015",
   "metadata": {},
   "outputs": [
    {
     "name": "stdout",
     "output_type": "stream",
     "text": [
      "[1, 2, 3]\n",
      "<class 'list'>\n",
      "2538954157696\n"
     ]
    }
   ],
   "source": [
    "a=[1,2,3]\n",
    "print(a)\n",
    "print(type(a))\n",
    "print(id(a))"
   ]
  },
  {
   "cell_type": "code",
   "execution_count": 74,
   "id": "fcc73cd0",
   "metadata": {},
   "outputs": [
    {
     "name": "stdout",
     "output_type": "stream",
     "text": [
      "(1, 2, 3)\n",
      "<class 'tuple'>\n"
     ]
    }
   ],
   "source": [
    "b=(1,2,3)\n",
    "print(b)\n",
    "print(type(b))"
   ]
  },
  {
   "cell_type": "code",
   "execution_count": 86,
   "id": "34c39c95",
   "metadata": {},
   "outputs": [
    {
     "name": "stdout",
     "output_type": "stream",
     "text": [
      "{1, 2, 3}\n",
      "<class 'set'>\n"
     ]
    }
   ],
   "source": [
    "c={1,2,3}\n",
    "print(c)\n",
    "print(type(c))"
   ]
  },
  {
   "cell_type": "code",
   "execution_count": 85,
   "id": "511d71be",
   "metadata": {},
   "outputs": [
    {
     "name": "stdout",
     "output_type": "stream",
     "text": [
      "{'mohsin': 'Kamal'}\n",
      "<class 'dict'>\n"
     ]
    }
   ],
   "source": [
    "d={'mohsin':'Kamal'}\n",
    "print(d)\n",
    "print(type(d))"
   ]
  },
  {
   "cell_type": "markdown",
   "id": "4d0426bd",
   "metadata": {},
   "source": [
    "CONCATINATION"
   ]
  },
  {
   "cell_type": "code",
   "execution_count": 92,
   "id": "b491e7cd",
   "metadata": {},
   "outputs": [
    {
     "name": "stdout",
     "output_type": "stream",
     "text": [
      "Mohsin Kamal\n",
      "MohsinKamal\n"
     ]
    }
   ],
   "source": [
    "frst_name = \"Mohsin\"\n",
    "Last_name = \"Kamal\"\n",
    "full_name = frst_name + Last_name\n",
    "print(frst_name +\" \"+ Last_name)\n",
    "print(full_name)"
   ]
  },
  {
   "cell_type": "code",
   "execution_count": 5,
   "id": "9ac6811d",
   "metadata": {},
   "outputs": [
    {
     "name": "stdout",
     "output_type": "stream",
     "text": [
      "Mohsin 39\n"
     ]
    }
   ],
   "source": [
    "age = 39\n",
    "name = \"Mohsin\"\n",
    "\n",
    "result = name +\" \"+str(age)\n",
    "print(result)"
   ]
  },
  {
   "cell_type": "code",
   "execution_count": null,
   "id": "aca70fac",
   "metadata": {},
   "outputs": [],
   "source": []
  }
 ],
 "metadata": {
  "kernelspec": {
   "display_name": "Python 3 (ipykernel)",
   "language": "python",
   "name": "python3"
  },
  "language_info": {
   "codemirror_mode": {
    "name": "ipython",
    "version": 3
   },
   "file_extension": ".py",
   "mimetype": "text/x-python",
   "name": "python",
   "nbconvert_exporter": "python",
   "pygments_lexer": "ipython3",
   "version": "3.9.13"
  }
 },
 "nbformat": 4,
 "nbformat_minor": 5
}
